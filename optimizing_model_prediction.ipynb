{
 "cells": [
  {
   "cell_type": "markdown",
   "id": "af0948c9",
   "metadata": {},
   "source": [
    "# Optimizing Model Prediction\n",
    "\n",
    "In this project I'd like to practice several techniques to optimize a linear regression model (the techniques however are also transferable to other models).  We will use a dataset from the UCI Machine Learning Repository, the Forest Fires dataset (https://archive.ics.uci.edu/ml/datasets/Forest+Fires). The dataset contains information on fires, along with the resulting damage and associated meteorological data. Our machine learning task will be to predict the damage to a forest from the given data:\n",
    "\n",
    "- X - x-axis spatial coordinate within the Montesinho park map: 1 to 9\n",
    "- Y - y-axis spatial coordinate within the Montesinho park map: 2 to 9\n",
    "- month - month of the year: 'jan' to 'dec'\n",
    "- day - day of the week: 'mon' to 'sun'\n",
    "- FFMC - FFMC (Fine Fuel Moisture Code) from the FWI (Fire Weather Index) represents fuel moisture of forest litter fuels under the shade of a forest canopy: 18.7 to 96.20\n",
    "- DMC - DMC (Duff Moisture Code) from the FWI system represents fuel moisture of decomposed organic material underneath the litter: 1.1 to 291.3\n",
    "- DC - DC (Drought Code) index from the FWI system represents drying deep into the soil: 7.9 to 860.6\n",
    "- ISI - ISI (Initial Spread Index) from the FWI system integrates fuel moisture for fine dead fuels and surface windspeed to estimate a spread potential: 0.0 to 56.10\n",
    "- temp - temperature in Celsius degrees: 2.2 to 33.30\n",
    "- RH - relative humidity in %: 15.0 to 100\n",
    "- wind - wind speed in km/h: 0.40 to 9.40\n",
    "- rain - outside rain in mm/m2 : 0.0 to 6.4\n",
    "- area - the burned area of the forest (in ha): 0.00 to 1090.84"
   ]
  },
  {
   "cell_type": "code",
   "execution_count": 511,
   "id": "efbaa2f0",
   "metadata": {},
   "outputs": [],
   "source": [
    "import pandas as pd\n",
    "import numpy as np\n",
    "import matplotlib as plt\n",
    "import seaborn as sns\n",
    "from sklearn.impute import KNNImputer\n",
    "from sklearn.linear_model import LinearRegression\n",
    "from sklearn.model_selection import train_test_split\n",
    "from sklearn.preprocessing import StandardScaler\n",
    "from sklearn.model_selection import cross_val_score\n",
    "from sklearn.feature_selection import SequentialFeatureSelector as SFS\n",
    "from sklearn.metrics import r2_score\n",
    "from sklearn.linear_model import LassoCV, RidgeCV\n",
    "from sklearn.preprocessing import PolynomialFeatures\n",
    "from sklearn.preprocessing import SplineTransformer"
   ]
  },
  {
   "cell_type": "code",
   "execution_count": 512,
   "id": "84927991",
   "metadata": {},
   "outputs": [
    {
     "name": "stdout",
     "output_type": "stream",
     "text": [
      "<class 'pandas.core.frame.DataFrame'>\n",
      "RangeIndex: 517 entries, 0 to 516\n",
      "Data columns (total 14 columns):\n",
      " #   Column      Non-Null Count  Dtype  \n",
      "---  ------      --------------  -----  \n",
      " 0   Unnamed: 0  517 non-null    int64  \n",
      " 1   X           517 non-null    int64  \n",
      " 2   Y           517 non-null    int64  \n",
      " 3   month       517 non-null    object \n",
      " 4   day         517 non-null    object \n",
      " 5   FFMC        469 non-null    float64\n",
      " 6   DMC         496 non-null    float64\n",
      " 7   DC          474 non-null    float64\n",
      " 8   ISI         515 non-null    float64\n",
      " 9   temp        496 non-null    float64\n",
      " 10  RH          487 non-null    float64\n",
      " 11  wind        482 non-null    float64\n",
      " 12  rain        485 non-null    float64\n",
      " 13  area        517 non-null    float64\n",
      "dtypes: float64(9), int64(3), object(2)\n",
      "memory usage: 56.7+ KB\n"
     ]
    },
    {
     "data": {
      "text/html": [
       "<div>\n",
       "<style scoped>\n",
       "    .dataframe tbody tr th:only-of-type {\n",
       "        vertical-align: middle;\n",
       "    }\n",
       "\n",
       "    .dataframe tbody tr th {\n",
       "        vertical-align: top;\n",
       "    }\n",
       "\n",
       "    .dataframe thead th {\n",
       "        text-align: right;\n",
       "    }\n",
       "</style>\n",
       "<table border=\"1\" class=\"dataframe\">\n",
       "  <thead>\n",
       "    <tr style=\"text-align: right;\">\n",
       "      <th></th>\n",
       "      <th>Unnamed: 0</th>\n",
       "      <th>X</th>\n",
       "      <th>Y</th>\n",
       "      <th>month</th>\n",
       "      <th>day</th>\n",
       "      <th>FFMC</th>\n",
       "      <th>DMC</th>\n",
       "      <th>DC</th>\n",
       "      <th>ISI</th>\n",
       "      <th>temp</th>\n",
       "      <th>RH</th>\n",
       "      <th>wind</th>\n",
       "      <th>rain</th>\n",
       "      <th>area</th>\n",
       "    </tr>\n",
       "  </thead>\n",
       "  <tbody>\n",
       "    <tr>\n",
       "      <th>0</th>\n",
       "      <td>1</td>\n",
       "      <td>7</td>\n",
       "      <td>5</td>\n",
       "      <td>mar</td>\n",
       "      <td>fri</td>\n",
       "      <td>86.2</td>\n",
       "      <td>26.2</td>\n",
       "      <td>94.3</td>\n",
       "      <td>5.1</td>\n",
       "      <td>NaN</td>\n",
       "      <td>51.0</td>\n",
       "      <td>6.7</td>\n",
       "      <td>0.0</td>\n",
       "      <td>0.0</td>\n",
       "    </tr>\n",
       "    <tr>\n",
       "      <th>1</th>\n",
       "      <td>2</td>\n",
       "      <td>7</td>\n",
       "      <td>4</td>\n",
       "      <td>oct</td>\n",
       "      <td>tue</td>\n",
       "      <td>90.6</td>\n",
       "      <td>NaN</td>\n",
       "      <td>669.1</td>\n",
       "      <td>6.7</td>\n",
       "      <td>18.0</td>\n",
       "      <td>33.0</td>\n",
       "      <td>0.9</td>\n",
       "      <td>0.0</td>\n",
       "      <td>0.0</td>\n",
       "    </tr>\n",
       "    <tr>\n",
       "      <th>2</th>\n",
       "      <td>3</td>\n",
       "      <td>7</td>\n",
       "      <td>4</td>\n",
       "      <td>oct</td>\n",
       "      <td>sat</td>\n",
       "      <td>90.6</td>\n",
       "      <td>43.7</td>\n",
       "      <td>NaN</td>\n",
       "      <td>6.7</td>\n",
       "      <td>14.6</td>\n",
       "      <td>33.0</td>\n",
       "      <td>1.3</td>\n",
       "      <td>0.0</td>\n",
       "      <td>0.0</td>\n",
       "    </tr>\n",
       "    <tr>\n",
       "      <th>3</th>\n",
       "      <td>4</td>\n",
       "      <td>8</td>\n",
       "      <td>6</td>\n",
       "      <td>mar</td>\n",
       "      <td>fri</td>\n",
       "      <td>91.7</td>\n",
       "      <td>33.3</td>\n",
       "      <td>77.5</td>\n",
       "      <td>9.0</td>\n",
       "      <td>8.3</td>\n",
       "      <td>97.0</td>\n",
       "      <td>4.0</td>\n",
       "      <td>0.2</td>\n",
       "      <td>0.0</td>\n",
       "    </tr>\n",
       "    <tr>\n",
       "      <th>4</th>\n",
       "      <td>5</td>\n",
       "      <td>8</td>\n",
       "      <td>6</td>\n",
       "      <td>mar</td>\n",
       "      <td>sun</td>\n",
       "      <td>89.3</td>\n",
       "      <td>51.3</td>\n",
       "      <td>102.2</td>\n",
       "      <td>9.6</td>\n",
       "      <td>11.4</td>\n",
       "      <td>99.0</td>\n",
       "      <td>NaN</td>\n",
       "      <td>0.0</td>\n",
       "      <td>0.0</td>\n",
       "    </tr>\n",
       "  </tbody>\n",
       "</table>\n",
       "</div>"
      ],
      "text/plain": [
       "   Unnamed: 0  X  Y month  day  FFMC   DMC     DC  ISI  temp    RH  wind  \\\n",
       "0           1  7  5   mar  fri  86.2  26.2   94.3  5.1   NaN  51.0   6.7   \n",
       "1           2  7  4   oct  tue  90.6   NaN  669.1  6.7  18.0  33.0   0.9   \n",
       "2           3  7  4   oct  sat  90.6  43.7    NaN  6.7  14.6  33.0   1.3   \n",
       "3           4  8  6   mar  fri  91.7  33.3   77.5  9.0   8.3  97.0   4.0   \n",
       "4           5  8  6   mar  sun  89.3  51.3  102.2  9.6  11.4  99.0   NaN   \n",
       "\n",
       "   rain  area  \n",
       "0   0.0   0.0  \n",
       "1   0.0   0.0  \n",
       "2   0.0   0.0  \n",
       "3   0.2   0.0  \n",
       "4   0.0   0.0  "
      ]
     },
     "execution_count": 512,
     "metadata": {},
     "output_type": "execute_result"
    }
   ],
   "source": [
    "fires = pd.read_csv(\"fires.csv\")\n",
    "fires.info()\n",
    "fires.head()"
   ]
  },
  {
   "cell_type": "markdown",
   "id": "c3db2e0b",
   "metadata": {},
   "source": [
    "## Data cleaning\n",
    "\n",
    "Even at first glance it is evident that many values are missing and that the date columns are not in numerical form. So let's start with data cleaning."
   ]
  },
  {
   "cell_type": "markdown",
   "id": "66f43b6c",
   "metadata": {},
   "source": [
    "### coordinates X and Y\n",
    "\n",
    "The specific location in the national park isn't interesting for our general approach, so we drop them. We alo don't need the first column (enumerating integer)."
   ]
  },
  {
   "cell_type": "code",
   "execution_count": 513,
   "id": "164bc9d9",
   "metadata": {},
   "outputs": [],
   "source": [
    "fires = fires.drop([\"Unnamed: 0\",\"X\",\"Y\"], axis=1)"
   ]
  },
  {
   "cell_type": "markdown",
   "id": "81ce8587",
   "metadata": {},
   "source": [
    "### month and date"
   ]
  },
  {
   "cell_type": "code",
   "execution_count": 514,
   "id": "57a5576e",
   "metadata": {},
   "outputs": [
    {
     "data": {
      "text/plain": [
       "sun    95\n",
       "fri    85\n",
       "sat    84\n",
       "mon    74\n",
       "tue    64\n",
       "thu    61\n",
       "wed    54\n",
       "Name: day, dtype: int64"
      ]
     },
     "execution_count": 514,
     "metadata": {},
     "output_type": "execute_result"
    }
   ],
   "source": [
    "fires[\"day\"].value_counts()"
   ]
  },
  {
   "cell_type": "code",
   "execution_count": 515,
   "id": "5a5f8eff",
   "metadata": {},
   "outputs": [
    {
     "data": {
      "text/plain": [
       "aug    184\n",
       "sep    172\n",
       "mar     54\n",
       "jul     32\n",
       "feb     20\n",
       "jun     17\n",
       "oct     15\n",
       "apr      9\n",
       "dec      9\n",
       "jan      2\n",
       "may      2\n",
       "nov      1\n",
       "Name: month, dtype: int64"
      ]
     },
     "execution_count": 515,
     "metadata": {},
     "output_type": "execute_result"
    }
   ],
   "source": [
    "fires[\"month\"].value_counts()"
   ]
  },
  {
   "cell_type": "markdown",
   "id": "cb59ebca",
   "metadata": {},
   "source": [
    "Most fires seems to haben around the weekend and in late summer (august, september). So there is definitely a time-dependent course. However, the reasons for fires are more likely to be explained by the weather and soil conditions which we also have in our data. So we simply drop these columns. In order to use them anyway we would have to convert it into a numerical form (e.g. with OneHotEncoder). "
   ]
  },
  {
   "cell_type": "code",
   "execution_count": 516,
   "id": "2e603918",
   "metadata": {},
   "outputs": [],
   "source": [
    "fires = fires.drop([\"day\",\"month\"], axis=1)"
   ]
  },
  {
   "cell_type": "markdown",
   "id": "7fea4aa2",
   "metadata": {},
   "source": [
    "### weather and soil conditions\n",
    "\n",
    "These are the data we like to keep, but every column has missing values. To fix and don't loose many rows from the very limited dataset we have to impute them with assumed values. One approach would be to replace the values with the mean of all the observations, but it seems smarter to replace them by values of similar obserations. KNNImputer can do this by looking for the k nearest (most similar) neighbors (observations) and take their mean value."
   ]
  },
  {
   "cell_type": "code",
   "execution_count": 517,
   "id": "26bb1ea2",
   "metadata": {},
   "outputs": [
    {
     "name": "stdout",
     "output_type": "stream",
     "text": [
      "<class 'pandas.core.frame.DataFrame'>\n",
      "RangeIndex: 517 entries, 0 to 516\n",
      "Data columns (total 8 columns):\n",
      " #   Column  Non-Null Count  Dtype  \n",
      "---  ------  --------------  -----  \n",
      " 0   FFMC    517 non-null    float64\n",
      " 1   DMC     517 non-null    float64\n",
      " 2   DC      517 non-null    float64\n",
      " 3   ISI     517 non-null    float64\n",
      " 4   temp    517 non-null    float64\n",
      " 5   RH      517 non-null    float64\n",
      " 6   wind    517 non-null    float64\n",
      " 7   rain    517 non-null    float64\n",
      "dtypes: float64(8)\n",
      "memory usage: 32.4 KB\n"
     ]
    }
   ],
   "source": [
    "imp = KNNImputer(missing_values = np.nan, n_neighbors=3)\n",
    "\n",
    "imputed_fires = pd.DataFrame(imp.fit_transform(fires[fires.columns[:-1]]), columns = fires[fires.columns[:-1]].columns)\n",
    "\n",
    "imputed_fires.info()"
   ]
  },
  {
   "cell_type": "markdown",
   "id": "d4ab5ab5",
   "metadata": {},
   "source": [
    "It's important to also look for outliers that could have disturbing effects to the model. We will observe each boxplot, but also calculate the upper and lower bound by multiplying the interquartile range by 1.5."
   ]
  },
  {
   "cell_type": "code",
   "execution_count": 518,
   "id": "0822df21",
   "metadata": {},
   "outputs": [
    {
     "data": {
      "text/plain": [
       "<AxesSubplot:>"
      ]
     },
     "execution_count": 518,
     "metadata": {},
     "output_type": "execute_result"
    },
    {
     "data": {
      "image/png": "[encoded data removed]",
      "text/plain": [
       "<Figure size 432x288 with 1 Axes>"
      ]
     },
     "metadata": {},
     "output_type": "display_data"
    }
   ],
   "source": [
    "imputed_fires.boxplot(column=[\"FFMC\", \"ISI\", \"temp\", \"RH\", \"wind\", \"rain\"])"
   ]
  },
  {
   "cell_type": "code",
   "execution_count": 519,
   "id": "46a5353e",
   "metadata": {},
   "outputs": [
    {
     "data": {
      "text/plain": [
       "<AxesSubplot:>"
      ]
     },
     "execution_count": 519,
     "metadata": {},
     "output_type": "execute_result"
    },
    {
     "data": {
      "image/png": "[encoded data removed]",
      "text/plain": [
       "<Figure size 432x288 with 1 Axes>"
      ]
     },
     "metadata": {},
     "output_type": "display_data"
    }
   ],
   "source": [
    "imputed_fires.boxplot(column=[\"DMC\", \"DC\"])"
   ]
  },
  {
   "cell_type": "code",
   "execution_count": 520,
   "id": "862030b9",
   "metadata": {},
   "outputs": [
    {
     "name": "stdout",
     "output_type": "stream",
     "text": [
      "The FFMC column has 53 outliers.\n",
      "The DMC column has 22 outliers.\n",
      "The DC column has 25 outliers.\n",
      "The ISI column has 23 outliers.\n",
      "The temp column has 9 outliers.\n",
      "The RH column has 10 outliers.\n",
      "The wind column has 13 outliers.\n",
      "The rain column has 8 outliers.\n"
     ]
    }
   ],
   "source": [
    "for col in imputed_fires:\n",
    "    quartiles = np.percentile(imputed_fires[col], [25, 50, 75])\n",
    "    iqr = quartiles[2] - quartiles[0]\n",
    "    lower_bound = quartiles[0] - (1.5 * iqr)\n",
    "    upper_bound = quartiles[2] + (1.5 * iqr)\n",
    "    num_outliers = sum((imputed_fires[col] < lower_bound) | (imputed_fires[col] > upper_bound))\n",
    "\n",
    "    print(f\"The {col} column has {num_outliers} outliers.\")"
   ]
  },
  {
   "cell_type": "markdown",
   "id": "eaa7815f",
   "metadata": {},
   "source": [
    "There in fact some outliers. We'll leave them in for now and will later compare whether the model is better with or without them. Later we will also test whether standardizing the data has a positive effect."
   ]
  },
  {
   "cell_type": "markdown",
   "id": "694a205a",
   "metadata": {},
   "source": [
    "### target value area\n",
    "\n",
    "Examining the distribution of the target variable is very important for our model. For linear regression, we should have a normal distribution at best."
   ]
  },
  {
   "cell_type": "code",
   "execution_count": 521,
   "id": "1a9471b4",
   "metadata": {},
   "outputs": [
    {
     "data": {
      "text/plain": [
       "array([[<AxesSubplot:title={'center':'area'}>]], dtype=object)"
      ]
     },
     "execution_count": 521,
     "metadata": {},
     "output_type": "execute_result"
    },
    {
     "data": {
      "image/png": "[encoded data removed]",
      "text/plain": [
       "<Figure size 432x288 with 1 Axes>"
      ]
     },
     "metadata": {},
     "output_type": "display_data"
    }
   ],
   "source": [
    "fires.hist(\"area\", bins=20)"
   ]
  },
  {
   "cell_type": "code",
   "execution_count": 522,
   "id": "7a417de1",
   "metadata": {},
   "outputs": [
    {
     "data": {
      "text/plain": [
       "<AxesSubplot:>"
      ]
     },
     "execution_count": 522,
     "metadata": {},
     "output_type": "execute_result"
    },
    {
     "data": {
      "image/png": "[encoded data removed]",
      "text/plain": [
       "<Figure size 432x288 with 1 Axes>"
      ]
     },
     "metadata": {},
     "output_type": "display_data"
    }
   ],
   "source": [
    "fires.boxplot(column=[\"area\"])"
   ]
  },
  {
   "cell_type": "code",
   "execution_count": 523,
   "id": "a85ee7bd",
   "metadata": {},
   "outputs": [
    {
     "name": "stdout",
     "output_type": "stream",
     "text": [
      "The area column has 63 outliers.\n"
     ]
    }
   ],
   "source": [
    "quartiles = np.percentile(fires[\"area\"], [25, 50, 75])\n",
    "iqr = quartiles[2] - quartiles[0]\n",
    "lower_bound = quartiles[0] - (1.5 * iqr)\n",
    "upper_bound = quartiles[2] + (1.5 * iqr)\n",
    "num_outliers = sum((fires[\"area\"] < lower_bound) | (fires[\"area\"] > upper_bound))\n",
    "\n",
    "print(f\"The area column has {num_outliers} outliers.\")"
   ]
  },
  {
   "cell_type": "markdown",
   "id": "15fd88e8",
   "metadata": {},
   "source": [
    "Unfortunaly the distribution is highly right-skewed with extremely damaging fires. Also, most fires do very little damage (even 0 ha). Not a good basis for our model. By taking a logarithm of the data, we may be able to improve the distribution somewhat. Wie have to add a little value to the area, because it is not possible to take logarithm from 0."
   ]
  },
  {
   "cell_type": "code",
   "execution_count": 524,
   "id": "705ff3b7",
   "metadata": {},
   "outputs": [
    {
     "data": {
      "text/plain": [
       "array([[<AxesSubplot:title={'center':'log_area'}>]], dtype=object)"
      ]
     },
     "execution_count": 524,
     "metadata": {},
     "output_type": "execute_result"
    },
    {
     "data": {
      "image/png": "[encoded data removed]",
      "text/plain": [
       "<Figure size 432x288 with 1 Axes>"
      ]
     },
     "metadata": {},
     "output_type": "display_data"
    }
   ],
   "source": [
    "imputed_fires[\"log_area\"] = np.log(fires[\"area\"] + 1)\n",
    "\n",
    "imputed_fires.hist(\"log_area\", bins=20)"
   ]
  },
  {
   "cell_type": "markdown",
   "id": "7b426eab",
   "metadata": {},
   "source": [
    "Interestingly, this gives us an better distribution for the large fires. But most of the fires are far from that. Unfortunately, we cannot simply remove this data as we would greatly overestimate the size of the fires. Maybe we will find a connection later that will enable us to separate the data into two different models. However, we will continue with this for the initial model."
   ]
  },
  {
   "cell_type": "markdown",
   "id": "31b408d0",
   "metadata": {},
   "source": [
    "## Initial model\n",
    "\n",
    "To show how to improve a model we create our first reference model with all the data we recently cleaned."
   ]
  },
  {
   "cell_type": "code",
   "execution_count": 525,
   "id": "bfd3cdef",
   "metadata": {},
   "outputs": [
    {
     "data": {
      "text/plain": [
       "0.01898360768263685"
      ]
     },
     "execution_count": 525,
     "metadata": {},
     "output_type": "execute_result"
    }
   ],
   "source": [
    "reference_model = LinearRegression()\n",
    "\n",
    "X = imputed_fires.drop(\"log_area\", axis=1)\n",
    "y = imputed_fires[\"log_area\"]\n",
    "\n",
    "X_train, X_test, y_train, y_test = train_test_split(X, y, test_size=0.25, random_state=1)\n",
    "reference_model.fit(X_train, y_train)\n",
    "reference_model.score(X_train, y_train)"
   ]
  },
  {
   "cell_type": "markdown",
   "id": "acb5b396",
   "metadata": {},
   "source": [
    "The prediction power of our initial model is close to zero. Let's see if we can improve it by simple measures like standardizing the feature values or drop the outliers."
   ]
  },
  {
   "cell_type": "markdown",
   "id": "7830ad70",
   "metadata": {},
   "source": [
    "#### standardizing features"
   ]
  },
  {
   "cell_type": "code",
   "execution_count": 526,
   "id": "9a9864a7",
   "metadata": {},
   "outputs": [
    {
     "data": {
      "text/plain": [
       "0.01898360768263685"
      ]
     },
     "execution_count": 526,
     "metadata": {},
     "output_type": "execute_result"
    }
   ],
   "source": [
    "scaler = StandardScaler()\n",
    "\n",
    "standardized_X = scaler.fit_transform(X_train)\n",
    "\n",
    "reference_model.fit(standardized_X, y_train)\n",
    "reference_model.score(standardized_X, y_train)"
   ]
  },
  {
   "cell_type": "markdown",
   "id": "7ec482d1",
   "metadata": {},
   "source": [
    "There isn't an effect at all. So we leave the features as they are."
   ]
  },
  {
   "cell_type": "markdown",
   "id": "7896ae41",
   "metadata": {},
   "source": [
    "#### drop outliers"
   ]
  },
  {
   "cell_type": "code",
   "execution_count": 527,
   "id": "bfb59992",
   "metadata": {},
   "outputs": [
    {
     "name": "stdout",
     "output_type": "stream",
     "text": [
      "(517, 9)\n",
      "(389, 9)\n"
     ]
    }
   ],
   "source": [
    "print(imputed_fires.shape)\n",
    "\n",
    "droped_fires = imputed_fires.copy()\n",
    "\n",
    "for col in imputed_fires[imputed_fires.columns[:-1]]:\n",
    "    quartiles = np.percentile(imputed_fires[col], [25, 50, 75])\n",
    "    iqr = quartiles[2] - quartiles[0]\n",
    "    lower_bound = quartiles[0] - (1.5 * iqr)\n",
    "    upper_bound = quartiles[2] + (1.5 * iqr)    \n",
    "    droped_fires = droped_fires.drop(imputed_fires[(imputed_fires[col] < lower_bound) | (imputed_fires[col] > upper_bound)].index, errors=\"ignore\")\n",
    "    \n",
    "print(droped_fires.shape)"
   ]
  },
  {
   "cell_type": "code",
   "execution_count": 528,
   "id": "64ef73df",
   "metadata": {},
   "outputs": [
    {
     "data": {
      "text/plain": [
       "0.021987475725616434"
      ]
     },
     "execution_count": 528,
     "metadata": {},
     "output_type": "execute_result"
    }
   ],
   "source": [
    "outliers_model = LinearRegression()\n",
    "\n",
    "X_droped = droped_fires.drop(\"log_area\", axis=1)\n",
    "y_droped = droped_fires[\"log_area\"]\n",
    "\n",
    "X_train_droped, X_test_droped, y_train_droped, y_test_droped = train_test_split(X_droped, y_droped, test_size=0.25, random_state=1)\n",
    "\n",
    "outliers_model.fit(X_train_droped,y_train_droped)\n",
    "outliers_model.score(X_train_droped,y_train_droped)"
   ]
  },
  {
   "cell_type": "markdown",
   "id": "0f613bca",
   "metadata": {},
   "source": [
    "We droped nearly a quarter of our observations and got only a very little improvement. Droping outliers isn't the way we have to go here."
   ]
  },
  {
   "cell_type": "markdown",
   "id": "f65c2083",
   "metadata": {},
   "source": [
    "## Feature Selection\n",
    "\n",
    "To select promising features we have to look for relationships with the target column."
   ]
  },
  {
   "cell_type": "code",
   "execution_count": 529,
   "id": "c10788a4",
   "metadata": {},
   "outputs": [
    {
     "data": {
      "text/plain": [
       "<AxesSubplot:>"
      ]
     },
     "execution_count": 529,
     "metadata": {},
     "output_type": "execute_result"
    },
    {
     "data": {
      "image/png": "[encoded data removed]",
      "text/plain": [
       "<Figure size 432x288 with 2 Axes>"
      ]
     },
     "metadata": {},
     "output_type": "display_data"
    }
   ],
   "source": [
    "sns.heatmap(abs(imputed_fires.corr()))"
   ]
  },
  {
   "cell_type": "code",
   "execution_count": 530,
   "id": "c169b30c",
   "metadata": {},
   "outputs": [
    {
     "data": {
      "text/plain": [
       "<seaborn.axisgrid.PairGrid at 0x2635511cfd0>"
      ]
     },
     "execution_count": 530,
     "metadata": {},
     "output_type": "execute_result"
    },
    {
     "data": {
      "image/png": "[encoded data removed]",
      "text/plain": [
       "<Figure size 900x180 with 6 Axes>"
      ]
     },
     "metadata": {},
     "output_type": "display_data"
    }
   ],
   "source": [
    "sns.pairplot(imputed_fires[[\"FFMC\", \"DMC\", \"DC\", \"ISI\", \"log_area\"]], y_vars=[\"log_area\"])"
   ]
  },
  {
   "cell_type": "code",
   "execution_count": 531,
   "id": "efa4b100",
   "metadata": {
    "scrolled": true
   },
   "outputs": [
    {
     "data": {
      "text/plain": [
       "<seaborn.axisgrid.PairGrid at 0x26356e21790>"
      ]
     },
     "execution_count": 531,
     "metadata": {},
     "output_type": "execute_result"
    },
    {
     "data": {
      "image/png": "[encoded data removed]",
      "text/plain": [
       "<Figure size 900x180 with 6 Axes>"
      ]
     },
     "metadata": {},
     "output_type": "display_data"
    }
   ],
   "source": [
    "sns.pairplot(imputed_fires[[\"temp\", \"RH\", \"wind\", \"rain\", \"log_area\"]], y_vars=[\"log_area\"])"
   ]
  },
  {
   "cell_type": "markdown",
   "id": "855e66c8",
   "metadata": {},
   "source": [
    "Unfortunately, as the poor model results suggested, there is no linear correlation between the variables and the size of the fire. Any other higher-dimensional relationships cannot be recognized either at first glance. Even though we will probably no longer be able to optimize the model satisfactorily, we will use this project to demonstrate further techniques.\n",
    "\n",
    "There are quite a few features in the dataset, so let's use sequential feature selection to determine which features might be most useful."
   ]
  },
  {
   "cell_type": "code",
   "execution_count": 532,
   "id": "5ac8500a",
   "metadata": {},
   "outputs": [
    {
     "name": "stdout",
     "output_type": "stream",
     "text": [
      "R²    features\n",
      "0.0053 ['rain']\n",
      "0.0099 ['RH' 'rain']\n",
      "0.0123 ['RH' 'wind' 'rain']\n",
      "0.0174 ['DC' 'RH' 'wind' 'rain']\n",
      "0.0177 ['FFMC' 'DC' 'RH' 'wind' 'rain']\n",
      "0.018 ['FFMC' 'DMC' 'DC' 'RH' 'wind' 'rain']\n",
      "0.0183 ['FFMC' 'DMC' 'DC' 'temp' 'RH' 'wind' 'rain']\n"
     ]
    }
   ],
   "source": [
    "model_sfs = LinearRegression()\n",
    "model_comp = LinearRegression()\n",
    "\n",
    "print(\"R²    features\")\n",
    "\n",
    "for i in range(1,len(X.columns)):\n",
    "    sfs = SFS(model_sfs, n_features_to_select=i, direction='forward', scoring=\"r2\")\n",
    "    sfs.fit(X_train,y_train)\n",
    "    var_sfs = sfs.get_feature_names_out()\n",
    "    \n",
    "    X_var = X_train[var_sfs]\n",
    "    model_comp.fit(X_var,y_train)\n",
    "    y_pred = model_comp.predict(X_var)\n",
    "    r2_train = r2_score(y_train, y_pred)   \n",
    "        \n",
    "    print(round(r2_train,4), var_sfs)"
   ]
  },
  {
   "cell_type": "markdown",
   "id": "b882897f",
   "metadata": {},
   "source": [
    "A clear statement cannot be made here. Each feature adds a little something to the very low predictive power. In order not to overfit the model, we will test beneath combinations in our final evaluation."
   ]
  },
  {
   "cell_type": "code",
   "execution_count": 533,
   "id": "de6a3b43",
   "metadata": {},
   "outputs": [],
   "source": [
    "sfs2_model = LinearRegression()\n",
    "sfs2_cols = ['FFMC', 'rain']\n",
    "\n",
    "sfs4_model = LinearRegression()\n",
    "sfs4_cols = ['FFMC', 'DC', 'temp', 'rain']\n",
    "\n",
    "sfs6_model = LinearRegression()\n",
    "sfs6_cols = ['FFMC', 'DMC', 'DC', 'temp', 'wind', 'rain']"
   ]
  },
  {
   "cell_type": "markdown",
   "id": "96d35b33",
   "metadata": {},
   "source": [
    "## Regularized models\n",
    "\n",
    "Regularization is the process of simplifying a model so that it generalizes better to unseen data. One way we can regularize a model is to reduce the magnitude of the coefficients in a model. This is potentially useful in high-dimensional contexts because we need a way to narrow down the feature set. Even that is not the case here we take a look how this two variants perform:\n",
    "\n",
    "- Ridge regression implements a penalty term in the loss function to reduce coefficient magnitude.\n",
    "- LASSO also incorporates a penalty term, but its penalty also enables feature selection.\n",
    "\n",
    "Standardization is essential for regularized models because we need to make sure that each of the coefficients are penalized similarly."
   ]
  },
  {
   "cell_type": "code",
   "execution_count": 534,
   "id": "1b7f92ca",
   "metadata": {},
   "outputs": [
    {
     "name": "stdout",
     "output_type": "stream",
     "text": [
      "Ridge tuning parameter:  2142.927927927928\n",
      "LASSO tuning parameter:  10000.0\n",
      "Ridge coefficients:  [ 0.0098721   0.01439527  0.01484008 -0.00668233  0.00967847 -0.01091083\n",
      "  0.01837577  0.00585511]\n",
      "LASSO coefficients:  [ 0.  0.  0. -0.  0. -0.  0.  0.]\n",
      "Ridge R²:  0.01\n",
      "LASSO R²:  0.0\n"
     ]
    }
   ],
   "source": [
    "scaler = StandardScaler()\n",
    "standardized_X = scaler.fit_transform(X)\n",
    "\n",
    "ridge_model = RidgeCV(alphas = np.linspace(1, 10000, num=1000))\n",
    "lasso_model = LassoCV(alphas = np.linspace(1, 10000, num=1000))\n",
    "\n",
    "ridge_model.fit(standardized_X, y)\n",
    "lasso_model.fit(standardized_X, y)\n",
    "\n",
    "print(\"Ridge tuning parameter: \", ridge_model.alpha_)\n",
    "print(\"LASSO tuning parameter: \", lasso_model.alpha_)\n",
    "\n",
    "print(\"Ridge coefficients: \", ridge_model.coef_)\n",
    "print(\"LASSO coefficients: \", lasso_model.coef_)\n",
    "\n",
    "print(\"Ridge R²: \", ridge_model.score(standardized_X,y).round(2))\n",
    "print(\"LASSO R²: \", lasso_model.score(standardized_X,y).round(2))"
   ]
  },
  {
   "cell_type": "markdown",
   "id": "66f65dde",
   "metadata": {},
   "source": [
    "The LASSO tuning parameter goes to an extreme. Given that the outcome has many small values, it suggests that having no features at all is better than having any. That is not  helpful at all and shows one again that this subject is hard to model. In our final evaluation we will use the ridge regression."
   ]
  },
  {
   "cell_type": "markdown",
   "id": "391c9944",
   "metadata": {},
   "source": [
    "## Non-linear models\n",
    "\n",
    "###  Polynomial features\n",
    "\n",
    "Since linear models do not seem to help us here, we also try a polydimensional approach. Sklearn has a preprocessing class called PolynomialFeatures that generates a feature matrix consisting of all polynomial combinations of the features with degree less than or equal to the specified degree."
   ]
  },
  {
   "cell_type": "code",
   "execution_count": 535,
   "id": "9eed7033",
   "metadata": {},
   "outputs": [
    {
     "data": {
      "text/plain": [
       "0.06768455160567666"
      ]
     },
     "execution_count": 535,
     "metadata": {},
     "output_type": "execute_result"
    }
   ],
   "source": [
    "poly_model = LinearRegression()\n",
    "\n",
    "poly = PolynomialFeatures(degree=2)\n",
    "\n",
    "poly_X = poly.fit_transform(X)\n",
    "\n",
    "X_train, X_test, y_train, y_test = train_test_split(poly_X, y, test_size=0.25, random_state=1)\n",
    "\n",
    "poly_model.fit(X_train, y_train)\n",
    "poly_model.score(X_train, y_train)"
   ]
  },
  {
   "cell_type": "markdown",
   "id": "65775970",
   "metadata": {},
   "source": [
    "For the first time we may have a real optimization of the model even when it is still very weak. After some try around polynomial features of second degree seem to be the choice. Third degree performed weaker and with higher degree we overfit the model way too much."
   ]
  },
  {
   "cell_type": "markdown",
   "id": "daed8a05",
   "metadata": {},
   "source": [
    "### Piecewise functions / Splines\n",
    "\n",
    "Piecewise functions can use different functions for different regions of the predictor. Spline models are piecewise polynomials that incorporate constraints to be continuous and smooth at the knot points (where the predictor function changes in the spline model). Spline models can be represented as a linear combination of basis functions. These basis functions are functions of the original predictor. To fully characterize a spline, we only need to create and calculate basis functions, which thankfully the SplineTransformer class can do for us."
   ]
  },
  {
   "cell_type": "code",
   "execution_count": 536,
   "id": "a01f0f10",
   "metadata": {},
   "outputs": [
    {
     "data": {
      "text/plain": [
       "0.05295116294885638"
      ]
     },
     "execution_count": 536,
     "metadata": {},
     "output_type": "execute_result"
    }
   ],
   "source": [
    "spline_model = LinearRegression()\n",
    "\n",
    "spline = SplineTransformer(degree=2, n_knots=2, knots=\"uniform\")\n",
    "\n",
    "spline_X = spline.fit_transform(X)\n",
    "\n",
    "X_train, X_test, y_train, y_test = train_test_split(spline_X, y, test_size=0.25, random_state=1)\n",
    "\n",
    "spline_model.fit(X_train, y_train)\n",
    "spline_model.score(X_train, y_train)"
   ]
  },
  {
   "cell_type": "markdown",
   "id": "d9545095",
   "metadata": {},
   "source": [
    "Since no extreme improvement can be seen or expected here either, we simply take the model with degree 2 and 2 knots into further consideration."
   ]
  },
  {
   "cell_type": "markdown",
   "id": "18c3d3d9",
   "metadata": {},
   "source": [
    "## K-Fold Cross-Validation\n",
    "\n",
    "Now that we have a few candidate models, let's evaluate all of them using k-fold cross-validation. It will give us a better idea about model performance on unseen datasets compared to a single train-test split. "
   ]
  },
  {
   "cell_type": "code",
   "execution_count": 537,
   "id": "3d17dd79",
   "metadata": {},
   "outputs": [],
   "source": [
    "reference_cv = cross_val_score(reference_model, X, y, cv = 5, scoring = \"r2\")\n",
    "sfs2_cv = cross_val_score(sfs2_model, X[sfs2_cols], y, cv = 5, scoring = \"r2\")\n",
    "sfs4_cv = cross_val_score(sfs4_model, X[sfs4_cols], y, cv = 5, scoring = \"r2\")\n",
    "sfs6_cv = cross_val_score(sfs6_model, X[sfs6_cols], y, cv = 5, scoring = \"r2\")\n",
    "ridge_cv = cross_val_score(ridge_model, standardized_X, y, cv = 5, scoring = \"r2\")\n",
    "poly_cv = cross_val_score(poly_model, poly_X, y, cv = 5, scoring = \"r2\")\n",
    "spline_cv = cross_val_score(spline_model, spline_X, y, cv = 5, scoring = \"r2\")"
   ]
  },
  {
   "cell_type": "code",
   "execution_count": 538,
   "id": "2427e6f7",
   "metadata": {
    "scrolled": true
   },
   "outputs": [
    {
     "name": "stdout",
     "output_type": "stream",
     "text": [
      "Reference Model, Avg R²:  -0.23441788924761217\n",
      "Forward-2 Model, Avg R²:  -0.17141210606107077\n",
      "Forward-4 Model, Avg R²:  -0.2024113722679636\n",
      "Forward-6 Model, Avg R²:  -0.2676636375304915\n",
      "Ridge Model, Avg R²:  -0.11523137747715753\n",
      "Polynominal Model, Avg R²:  -1.0065133961902224\n",
      "Spline Model, Avg R²:  -12.84186132068975\n"
     ]
    }
   ],
   "source": [
    "print(\"Reference Model, Avg R²: \", np.mean(reference_cv))\n",
    "print(\"Forward-2 Model, Avg R²: \", np.mean(sfs2_cv))\n",
    "print(\"Forward-4 Model, Avg R²: \", np.mean(sfs4_cv))\n",
    "print(\"Forward-6 Model, Avg R²: \", np.mean(sfs6_cv))\n",
    "print(\"Ridge Model, Avg R²: \", np.mean(ridge_cv))\n",
    "print(\"Polynominal Model, Avg R²: \", np.mean(poly_cv))\n",
    "print(\"Spline Model, Avg R²: \", np.mean(spline_cv))"
   ]
  },
  {
   "cell_type": "markdown",
   "id": "4a56ee47",
   "metadata": {},
   "source": [
    "Among our candidate models, the ridge model performs the best, with an R² of -0.115. A negativ R² means that it would be more accurate to just predict the mean of all area values than to use the model. We should also visualize how the model predictions compare against the actual observed values in the data. It may be the case that our model performs well on a particular subset."
   ]
  },
  {
   "cell_type": "code",
   "execution_count": 549,
   "id": "1052c6f3",
   "metadata": {},
   "outputs": [
    {
     "data": {
      "text/plain": [
       "<seaborn.axisgrid.FacetGrid at 0x2635831d280>"
      ]
     },
     "execution_count": 549,
     "metadata": {},
     "output_type": "execute_result"
    },
    {
     "data": {
      "image/png": "[encoded data removed]",
      "text/plain": [
       "<Figure size 360x360 with 1 Axes>"
      ]
     },
     "metadata": {},
     "output_type": "display_data"
    }
   ],
   "source": [
    "y_pred = ridge_model.predict(standardized_X)\n",
    "\n",
    "check_model = pd.DataFrame()\n",
    "check_model[\"residuals\"] = y - y_pred\n",
    "check_model[\"fitted\"] = y_pred\n",
    "\n",
    "sns.lmplot(x = 'fitted', y = 'residuals', data=check_model, palette='Set1')"
   ]
  },
  {
   "cell_type": "markdown",
   "id": "c05046f1",
   "metadata": {},
   "source": [
    "There aren't clear trends or patterns in the performance of the model. It's clear that linear regression isn't capable of this problem and maybe no other model will be. However, this issue is known to be a difficult one. The extreme skew in the outcome hurts many of the assumptions needed by linear models. This showcases that machine learning is not a universal fix. Several problems have characteristics that make prediction very difficult."
   ]
  }
 ],
 "metadata": {
  "kernelspec": {
   "display_name": "Python 3 (ipykernel)",
   "language": "python",
   "name": "python3"
  },
  "language_info": {
   "codemirror_mode": {
    "name": "ipython",
    "version": 3
   },
   "file_extension": ".py",
   "mimetype": "text/x-python",
   "name": "python",
   "nbconvert_exporter": "python",
   "pygments_lexer": "ipython3",
   "version": "3.9.12"
  }
 },
 "nbformat": 4,
 "nbformat_minor": 5
}
